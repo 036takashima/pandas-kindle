{
  "nbformat": 4,
  "nbformat_minor": 0,
  "metadata": {
    "colab": {
      "name": "PandasSpeed.ipynb",
      "provenance": [],
      "include_colab_link": true
    },
    "kernelspec": {
      "name": "python3",
      "display_name": "Python 3"
    },
    "language_info": {
      "name": "python"
    }
  },
  "cells": [
    {
      "cell_type": "markdown",
      "metadata": {
        "id": "view-in-github",
        "colab_type": "text"
      },
      "source": [
        "<a href=\"https://colab.research.google.com/github/036takashima/pandas-kindle/blob/main/PandasSpeed.ipynb\" target=\"_parent\"><img src=\"https://colab.research.google.com/assets/colab-badge.svg\" alt=\"Open In Colab\"/></a>"
      ]
    },
    {
      "cell_type": "code",
      "metadata": {
        "colab": {
          "base_uri": "https://localhost:8080/"
        },
        "id": "UbJnnC2mk5HC",
        "outputId": "06a6f421-68ff-47f8-82bc-0dfa43bf0cdd"
      },
      "source": [
        "from google.colab import drive \n",
        "drive.mount('/content/drive', force_remount=True)"
      ],
      "execution_count": 1,
      "outputs": [
        {
          "output_type": "stream",
          "name": "stdout",
          "text": [
            "Mounted at /content/drive\n"
          ]
        }
      ]
    },
    {
      "cell_type": "code",
      "metadata": {
        "colab": {
          "base_uri": "https://localhost:8080/",
          "height": 232
        },
        "id": "MOYuAjysYKiQ",
        "outputId": "cb032c55-5231-4b2f-9a7b-59b18ce90795"
      },
      "source": [
        "# file = pd.read_csv('/content/drive/MyDrive/ColabNotebooks/pandas-kindle/test_r.csv')"
      ],
      "execution_count": null,
      "outputs": [
        {
          "output_type": "execute_result",
          "data": {
            "text/html": [
              "<div>\n",
              "<style scoped>\n",
              "    .dataframe tbody tr th:only-of-type {\n",
              "        vertical-align: middle;\n",
              "    }\n",
              "\n",
              "    .dataframe tbody tr th {\n",
              "        vertical-align: top;\n",
              "    }\n",
              "\n",
              "    .dataframe thead th {\n",
              "        text-align: right;\n",
              "    }\n",
              "</style>\n",
              "<table border=\"1\" class=\"dataframe\">\n",
              "  <thead>\n",
              "    <tr style=\"text-align: right;\">\n",
              "      <th></th>\n",
              "      <th>color</th>\n",
              "      <th>director_name</th>\n",
              "      <th>...</th>\n",
              "      <th>aspect_ratio</th>\n",
              "      <th>movie_facebook_likes</th>\n",
              "    </tr>\n",
              "  </thead>\n",
              "  <tbody>\n",
              "    <tr>\n",
              "      <th>0</th>\n",
              "      <td>Color</td>\n",
              "      <td>James Cameron</td>\n",
              "      <td>...</td>\n",
              "      <td>1.78</td>\n",
              "      <td>33000</td>\n",
              "    </tr>\n",
              "    <tr>\n",
              "      <th>1</th>\n",
              "      <td>Color</td>\n",
              "      <td>Gore Verbinski</td>\n",
              "      <td>...</td>\n",
              "      <td>2.35</td>\n",
              "      <td>0</td>\n",
              "    </tr>\n",
              "    <tr>\n",
              "      <th>2</th>\n",
              "      <td>Color</td>\n",
              "      <td>Sam Mendes</td>\n",
              "      <td>...</td>\n",
              "      <td>2.35</td>\n",
              "      <td>85000</td>\n",
              "    </tr>\n",
              "    <tr>\n",
              "      <th>3</th>\n",
              "      <td>Color</td>\n",
              "      <td>Christopher Nolan</td>\n",
              "      <td>...</td>\n",
              "      <td>2.35</td>\n",
              "      <td>164000</td>\n",
              "    </tr>\n",
              "    <tr>\n",
              "      <th>4</th>\n",
              "      <td>NaN</td>\n",
              "      <td>Doug Walker</td>\n",
              "      <td>...</td>\n",
              "      <td>NaN</td>\n",
              "      <td>0</td>\n",
              "    </tr>\n",
              "  </tbody>\n",
              "</table>\n",
              "<p>5 rows × 28 columns</p>\n",
              "</div>"
            ],
            "text/plain": [
              "   color      director_name  ...  aspect_ratio  movie_facebook_likes\n",
              "0  Color      James Cameron  ...          1.78                 33000\n",
              "1  Color     Gore Verbinski  ...          2.35                     0\n",
              "2  Color         Sam Mendes  ...          2.35                 85000\n",
              "3  Color  Christopher Nolan  ...          2.35                164000\n",
              "4    NaN        Doug Walker  ...           NaN                     0\n",
              "\n",
              "[5 rows x 28 columns]"
            ]
          },
          "metadata": {},
          "execution_count": 6
        }
      ]
    },
    {
      "cell_type": "code",
      "metadata": {
        "colab": {
          "base_uri": "https://localhost:8080/"
        },
        "id": "7VHWIKcEkVr9",
        "outputId": "c6f87c78-fe0a-4c5b-9b6d-7de43bb5dc1f"
      },
      "source": [
        "import csv\n",
        "with open(\"/content/drive/MyDrive/ColabNotebooks/pandas-kindle/test_r.csv\", mode=\"r\", encoding=\"utf-8\") as fp:\n",
        "  # Readerを取得\n",
        "  csv_reader = csv.reader(fp)\n",
        "  # ループで行ごとにリストで取得できます\n",
        "  for row in csv_reader:\n",
        "    print(row)"
      ],
      "execution_count": 2,
      "outputs": [
        {
          "output_type": "stream",
          "name": "stdout",
          "text": [
            "['1', '2', '3']\n",
            "['4', '5', '6']\n",
            "['7', '8', '9']\n"
          ]
        }
      ]
    },
    {
      "cell_type": "code",
      "metadata": {
        "id": "nSishBKpxYDs"
      },
      "source": [
        "import csv \n",
        "header = [\"A\", \"B\", \"C\"] \n",
        "data = [[1, 2, 3],\n",
        "        [ 4, 5, 6],\n",
        "        [ 7, 8, 9]] \n",
        "with open(\"/content/drive/MyDrive/ColabNotebooks/pandas-kindle/test_w.csv\", mode = \"w\", encoding = \"utf-8\") as fp: \n",
        "  csv_writer = csv.writer(fp, lineterminator =\"\\n\") \n",
        "  csv_writer.writerow(header)\n",
        "  csv_writer.writerows(data)"
      ],
      "execution_count": 4,
      "outputs": []
    },
    {
      "cell_type": "markdown",
      "metadata": {
        "id": "VNYVYjO0ymkX"
      },
      "source": [
        "## numpy"
      ]
    },
    {
      "cell_type": "code",
      "metadata": {
        "id": "uhE10tsUyHKk",
        "outputId": "bf81b596-87d2-4ac8-dc70-0e2bf2d9fb21",
        "colab": {
          "base_uri": "https://localhost:8080/"
        }
      },
      "source": [
        "import numpy as np\n",
        "num_list = [1, 2, 3, 4, 5]\n",
        "print(num_list)\n",
        "nd_ary = np.asarray(num_list)\n",
        "print(type(nd_ary))\n",
        "print(nd_ary)\n",
        "for i in nd_ary:\n",
        "  print(i)"
      ],
      "execution_count": 9,
      "outputs": [
        {
          "output_type": "stream",
          "name": "stdout",
          "text": [
            "[1, 2, 3, 4, 5]\n",
            "<class 'numpy.ndarray'>\n",
            "[1 2 3 4 5]\n",
            "1\n",
            "2\n",
            "3\n",
            "4\n",
            "5\n"
          ]
        }
      ]
    },
    {
      "cell_type": "code",
      "metadata": {
        "id": "1hDoks4yzVR1",
        "outputId": "6d60de29-a963-4d4f-b6b9-4d9de9ea77fa",
        "colab": {
          "base_uri": "https://localhost:8080/"
        }
      },
      "source": [
        "import numpy as np\n",
        "num_list = [[1, 2, 3],\n",
        "            [4, 5, 6],\n",
        "            [7, 8, 9]]\n",
        "nd_ary = np.asarray(num_list)\n",
        "print(nd_ary)\n",
        "for i in nd_ary:\n",
        "  print(i)"
      ],
      "execution_count": 10,
      "outputs": [
        {
          "output_type": "stream",
          "name": "stdout",
          "text": [
            "[[1 2 3]\n",
            " [4 5 6]\n",
            " [7 8 9]]\n",
            "[1 2 3]\n",
            "[4 5 6]\n",
            "[7 8 9]\n"
          ]
        }
      ]
    },
    {
      "cell_type": "code",
      "metadata": {
        "id": "dspHjm_Y0FZn",
        "outputId": "b497dfb0-07cb-4ecd-8950-6d4a11d4e2c2",
        "colab": {
          "base_uri": "https://localhost:8080/"
        }
      },
      "source": [
        "import numpy as np\n",
        "num_list = [[1, 2, 3],\n",
        "            [4, 5, 6],\n",
        "            [7, 8, 9]]\n",
        "nd_ary = np.asarray(num_list)\n",
        "print(type(nd_ary))\n",
        "print(nd_ary)\n",
        "# ndarray→リスト\n",
        "to_list = nd_ary.tolist()\n",
        "print(type(to_list))\n",
        "print(to_list)"
      ],
      "execution_count": 11,
      "outputs": [
        {
          "output_type": "stream",
          "name": "stdout",
          "text": [
            "<class 'numpy.ndarray'>\n",
            "[[1 2 3]\n",
            " [4 5 6]\n",
            " [7 8 9]]\n",
            "<class 'list'>\n",
            "[[1, 2, 3], [4, 5, 6], [7, 8, 9]]\n"
          ]
        }
      ]
    },
    {
      "cell_type": "code",
      "metadata": {
        "id": "Spu9xRdd0m3S",
        "outputId": "7c35f7aa-3fee-40a8-fee4-ed3637d90b23",
        "colab": {
          "base_uri": "https://localhost:8080/"
        }
      },
      "source": [
        "import numpy as np\n",
        "num_list = [[1, 2, 3],\n",
        "            [4, 5, 6],\n",
        "            [7, 8, 9]]\n",
        "print(np.asarray(num_list,dtype=np.int64))\n",
        "print(np.asarray(num_list,dtype=np.int64).tolist())\n",
        "print(np.asarray(num_list,dtype=np.float64))         \n",
        "print(np.asarray(num_list,dtype=np.float64).tolist())         "
      ],
      "execution_count": 13,
      "outputs": [
        {
          "output_type": "stream",
          "name": "stdout",
          "text": [
            "[[1 2 3]\n",
            " [4 5 6]\n",
            " [7 8 9]]\n",
            "[[1, 2, 3], [4, 5, 6], [7, 8, 9]]\n",
            "[[1. 2. 3.]\n",
            " [4. 5. 6.]\n",
            " [7. 8. 9.]]\n",
            "[[1.0, 2.0, 3.0], [4.0, 5.0, 6.0], [7.0, 8.0, 9.0]]\n"
          ]
        }
      ]
    },
    {
      "cell_type": "code",
      "metadata": {
        "id": "3e9dOUG-1Zhs",
        "outputId": "0b29516d-5d35-41e8-d300-d2d5ef04b800",
        "colab": {
          "base_uri": "https://localhost:8080/"
        }
      },
      "source": [
        "import numpy as np\n",
        "num_list = [[1, 2, 3],\n",
        "            [4, 5, 6],\n",
        "            [7, 8, 9]]\n",
        "nd_ary_float64 = np.asarray(num_list, dtype=np.float64)\n",
        "nd_ary_int64 = nd_ary_float64.astype(np.int64)\n",
        "print(nd_ary_float64)\n",
        "print(nd_ary_int64)"
      ],
      "execution_count": 14,
      "outputs": [
        {
          "output_type": "stream",
          "name": "stdout",
          "text": [
            "[[1. 2. 3.]\n",
            " [4. 5. 6.]\n",
            " [7. 8. 9.]]\n",
            "[[1 2 3]\n",
            " [4 5 6]\n",
            " [7 8 9]]\n"
          ]
        }
      ]
    },
    {
      "cell_type": "code",
      "metadata": {
        "id": "VXbMveun2E9Y"
      },
      "source": [
        ""
      ],
      "execution_count": null,
      "outputs": []
    },
    {
      "cell_type": "markdown",
      "metadata": {
        "id": "hcChuEiD2V8S"
      },
      "source": [
        "### 配列初期化関数"
      ]
    },
    {
      "cell_type": "code",
      "metadata": {
        "id": "tW5wdxEL2ZZB"
      },
      "source": [
        ""
      ],
      "execution_count": null,
      "outputs": []
    }
  ]
}